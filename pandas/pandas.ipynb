{
 "cells": [
  {
   "cell_type": "code",
   "execution_count": 1,
   "metadata": {},
   "outputs": [],
   "source": [
    "# Cria um dicionário\n",
    "dados = {'Estado': ['Santa Catarina', 'Rio de Janeiro', 'Tocantins', 'Bahia', 'Minas Gerais'], \n",
    "         'Ano': [2004, 2005, 2006, 2007, 2008], \n",
    "         'Taxa Desemprego': [1.5, 1.7, 1.6, 2.4, 2.7]}"
   ]
  },
  {
   "cell_type": "code",
   "execution_count": 2,
   "metadata": {},
   "outputs": [],
   "source": [
    "from pandas import DataFrame"
   ]
  },
  {
   "cell_type": "code",
   "execution_count": 3,
   "metadata": {},
   "outputs": [],
   "source": [
    "df = DataFrame(dados)"
   ]
  },
  {
   "cell_type": "code",
   "execution_count": 4,
   "metadata": {},
   "outputs": [
    {
     "data": {
      "text/html": [
       "<div>\n",
       "<style scoped>\n",
       "    .dataframe tbody tr th:only-of-type {\n",
       "        vertical-align: middle;\n",
       "    }\n",
       "\n",
       "    .dataframe tbody tr th {\n",
       "        vertical-align: top;\n",
       "    }\n",
       "\n",
       "    .dataframe thead th {\n",
       "        text-align: right;\n",
       "    }\n",
       "</style>\n",
       "<table border=\"1\" class=\"dataframe\">\n",
       "  <thead>\n",
       "    <tr style=\"text-align: right;\">\n",
       "      <th></th>\n",
       "      <th>Estado</th>\n",
       "      <th>Ano</th>\n",
       "      <th>Taxa Desemprego</th>\n",
       "    </tr>\n",
       "  </thead>\n",
       "  <tbody>\n",
       "    <tr>\n",
       "      <th>0</th>\n",
       "      <td>Santa Catarina</td>\n",
       "      <td>2004</td>\n",
       "      <td>1.5</td>\n",
       "    </tr>\n",
       "    <tr>\n",
       "      <th>1</th>\n",
       "      <td>Rio de Janeiro</td>\n",
       "      <td>2005</td>\n",
       "      <td>1.7</td>\n",
       "    </tr>\n",
       "    <tr>\n",
       "      <th>2</th>\n",
       "      <td>Tocantins</td>\n",
       "      <td>2006</td>\n",
       "      <td>1.6</td>\n",
       "    </tr>\n",
       "    <tr>\n",
       "      <th>3</th>\n",
       "      <td>Bahia</td>\n",
       "      <td>2007</td>\n",
       "      <td>2.4</td>\n",
       "    </tr>\n",
       "    <tr>\n",
       "      <th>4</th>\n",
       "      <td>Minas Gerais</td>\n",
       "      <td>2008</td>\n",
       "      <td>2.7</td>\n",
       "    </tr>\n",
       "  </tbody>\n",
       "</table>\n",
       "</div>"
      ],
      "text/plain": [
       "           Estado   Ano  Taxa Desemprego\n",
       "0  Santa Catarina  2004              1.5\n",
       "1  Rio de Janeiro  2005              1.7\n",
       "2       Tocantins  2006              1.6\n",
       "3           Bahia  2007              2.4\n",
       "4    Minas Gerais  2008              2.7"
      ]
     },
     "execution_count": 4,
     "metadata": {},
     "output_type": "execute_result"
    }
   ],
   "source": [
    "df.head()"
   ]
  },
  {
   "cell_type": "code",
   "execution_count": 5,
   "metadata": {},
   "outputs": [
    {
     "data": {
      "text/plain": [
       "pandas.core.frame.DataFrame"
      ]
     },
     "execution_count": 5,
     "metadata": {},
     "output_type": "execute_result"
    }
   ],
   "source": [
    "type(df)"
   ]
  },
  {
   "cell_type": "code",
   "execution_count": 6,
   "metadata": {},
   "outputs": [
    {
     "data": {
      "text/html": [
       "<div>\n",
       "<style scoped>\n",
       "    .dataframe tbody tr th:only-of-type {\n",
       "        vertical-align: middle;\n",
       "    }\n",
       "\n",
       "    .dataframe tbody tr th {\n",
       "        vertical-align: top;\n",
       "    }\n",
       "\n",
       "    .dataframe thead th {\n",
       "        text-align: right;\n",
       "    }\n",
       "</style>\n",
       "<table border=\"1\" class=\"dataframe\">\n",
       "  <thead>\n",
       "    <tr style=\"text-align: right;\">\n",
       "      <th></th>\n",
       "      <th>Estado</th>\n",
       "      <th>Taxa Desemprego</th>\n",
       "      <th>Ano</th>\n",
       "    </tr>\n",
       "  </thead>\n",
       "  <tbody>\n",
       "    <tr>\n",
       "      <th>0</th>\n",
       "      <td>Santa Catarina</td>\n",
       "      <td>1.5</td>\n",
       "      <td>2004</td>\n",
       "    </tr>\n",
       "    <tr>\n",
       "      <th>1</th>\n",
       "      <td>Rio de Janeiro</td>\n",
       "      <td>1.7</td>\n",
       "      <td>2005</td>\n",
       "    </tr>\n",
       "    <tr>\n",
       "      <th>2</th>\n",
       "      <td>Tocantins</td>\n",
       "      <td>1.6</td>\n",
       "      <td>2006</td>\n",
       "    </tr>\n",
       "    <tr>\n",
       "      <th>3</th>\n",
       "      <td>Bahia</td>\n",
       "      <td>2.4</td>\n",
       "      <td>2007</td>\n",
       "    </tr>\n",
       "    <tr>\n",
       "      <th>4</th>\n",
       "      <td>Minas Gerais</td>\n",
       "      <td>2.7</td>\n",
       "      <td>2008</td>\n",
       "    </tr>\n",
       "  </tbody>\n",
       "</table>\n",
       "</div>"
      ],
      "text/plain": [
       "           Estado  Taxa Desemprego   Ano\n",
       "0  Santa Catarina              1.5  2004\n",
       "1  Rio de Janeiro              1.7  2005\n",
       "2       Tocantins              1.6  2006\n",
       "3           Bahia              2.4  2007\n",
       "4    Minas Gerais              2.7  2008"
      ]
     },
     "execution_count": 6,
     "metadata": {},
     "output_type": "execute_result"
    }
   ],
   "source": [
    "DataFrame(dados, columns=['Estado', 'Taxa Desemprego', 'Ano'])"
   ]
  },
  {
   "cell_type": "code",
   "execution_count": 7,
   "metadata": {},
   "outputs": [],
   "source": [
    "df2 = DataFrame(dados,\n",
    "                columns=['Estado', 'Taxa Desemprego', 'Taxa Crescimento', 'Ano'],\n",
    "                index = ['estado1', 'estado2', 'estado3', 'estado4', 'estado5'])"
   ]
  },
  {
   "cell_type": "code",
   "execution_count": 8,
   "metadata": {},
   "outputs": [
    {
     "data": {
      "text/html": [
       "<div>\n",
       "<style scoped>\n",
       "    .dataframe tbody tr th:only-of-type {\n",
       "        vertical-align: middle;\n",
       "    }\n",
       "\n",
       "    .dataframe tbody tr th {\n",
       "        vertical-align: top;\n",
       "    }\n",
       "\n",
       "    .dataframe thead th {\n",
       "        text-align: right;\n",
       "    }\n",
       "</style>\n",
       "<table border=\"1\" class=\"dataframe\">\n",
       "  <thead>\n",
       "    <tr style=\"text-align: right;\">\n",
       "      <th></th>\n",
       "      <th>Estado</th>\n",
       "      <th>Taxa Desemprego</th>\n",
       "      <th>Taxa Crescimento</th>\n",
       "      <th>Ano</th>\n",
       "    </tr>\n",
       "  </thead>\n",
       "  <tbody>\n",
       "    <tr>\n",
       "      <th>estado1</th>\n",
       "      <td>Santa Catarina</td>\n",
       "      <td>1.5</td>\n",
       "      <td>NaN</td>\n",
       "      <td>2004</td>\n",
       "    </tr>\n",
       "    <tr>\n",
       "      <th>estado2</th>\n",
       "      <td>Rio de Janeiro</td>\n",
       "      <td>1.7</td>\n",
       "      <td>NaN</td>\n",
       "      <td>2005</td>\n",
       "    </tr>\n",
       "    <tr>\n",
       "      <th>estado3</th>\n",
       "      <td>Tocantins</td>\n",
       "      <td>1.6</td>\n",
       "      <td>NaN</td>\n",
       "      <td>2006</td>\n",
       "    </tr>\n",
       "    <tr>\n",
       "      <th>estado4</th>\n",
       "      <td>Bahia</td>\n",
       "      <td>2.4</td>\n",
       "      <td>NaN</td>\n",
       "      <td>2007</td>\n",
       "    </tr>\n",
       "    <tr>\n",
       "      <th>estado5</th>\n",
       "      <td>Minas Gerais</td>\n",
       "      <td>2.7</td>\n",
       "      <td>NaN</td>\n",
       "      <td>2008</td>\n",
       "    </tr>\n",
       "  </tbody>\n",
       "</table>\n",
       "</div>"
      ],
      "text/plain": [
       "                 Estado  Taxa Desemprego Taxa Crescimento   Ano\n",
       "estado1  Santa Catarina              1.5              NaN  2004\n",
       "estado2  Rio de Janeiro              1.7              NaN  2005\n",
       "estado3       Tocantins              1.6              NaN  2006\n",
       "estado4           Bahia              2.4              NaN  2007\n",
       "estado5    Minas Gerais              2.7              NaN  2008"
      ]
     },
     "execution_count": 8,
     "metadata": {},
     "output_type": "execute_result"
    }
   ],
   "source": [
    "df2"
   ]
  },
  {
   "cell_type": "code",
   "execution_count": 9,
   "metadata": {},
   "outputs": [
    {
     "data": {
      "text/plain": [
       "Index(['Estado', 'Taxa Desemprego', 'Taxa Crescimento', 'Ano'], dtype='object')"
      ]
     },
     "execution_count": 9,
     "metadata": {},
     "output_type": "execute_result"
    }
   ],
   "source": [
    "df2.columns"
   ]
  },
  {
   "cell_type": "code",
   "execution_count": 10,
   "metadata": {},
   "outputs": [
    {
     "data": {
      "text/plain": [
       "array([['Santa Catarina', 1.5, nan, 2004],\n",
       "       ['Rio de Janeiro', 1.7, nan, 2005],\n",
       "       ['Tocantins', 1.6, nan, 2006],\n",
       "       ['Bahia', 2.4, nan, 2007],\n",
       "       ['Minas Gerais', 2.7, nan, 2008]], dtype=object)"
      ]
     },
     "execution_count": 10,
     "metadata": {},
     "output_type": "execute_result"
    }
   ],
   "source": [
    "df2.values"
   ]
  },
  {
   "cell_type": "code",
   "execution_count": 11,
   "metadata": {},
   "outputs": [
    {
     "data": {
      "text/plain": [
       "Estado               object\n",
       "Taxa Desemprego     float64\n",
       "Taxa Crescimento     object\n",
       "Ano                   int64\n",
       "dtype: object"
      ]
     },
     "execution_count": 11,
     "metadata": {},
     "output_type": "execute_result"
    }
   ],
   "source": [
    "df2.dtypes"
   ]
  },
  {
   "cell_type": "code",
   "execution_count": 12,
   "metadata": {},
   "outputs": [
    {
     "data": {
      "text/plain": [
       "estado1    Santa Catarina\n",
       "estado2    Rio de Janeiro\n",
       "estado3         Tocantins\n",
       "estado4             Bahia\n",
       "estado5      Minas Gerais\n",
       "Name: Estado, dtype: object"
      ]
     },
     "execution_count": 12,
     "metadata": {},
     "output_type": "execute_result"
    }
   ],
   "source": [
    "df2['Estado']"
   ]
  },
  {
   "cell_type": "code",
   "execution_count": 13,
   "metadata": {},
   "outputs": [
    {
     "data": {
      "text/html": [
       "<div>\n",
       "<style scoped>\n",
       "    .dataframe tbody tr th:only-of-type {\n",
       "        vertical-align: middle;\n",
       "    }\n",
       "\n",
       "    .dataframe tbody tr th {\n",
       "        vertical-align: top;\n",
       "    }\n",
       "\n",
       "    .dataframe thead th {\n",
       "        text-align: right;\n",
       "    }\n",
       "</style>\n",
       "<table border=\"1\" class=\"dataframe\">\n",
       "  <thead>\n",
       "    <tr style=\"text-align: right;\">\n",
       "      <th></th>\n",
       "      <th>Taxa Desemprego</th>\n",
       "      <th>Ano</th>\n",
       "    </tr>\n",
       "  </thead>\n",
       "  <tbody>\n",
       "    <tr>\n",
       "      <th>estado1</th>\n",
       "      <td>1.5</td>\n",
       "      <td>2004</td>\n",
       "    </tr>\n",
       "    <tr>\n",
       "      <th>estado2</th>\n",
       "      <td>1.7</td>\n",
       "      <td>2005</td>\n",
       "    </tr>\n",
       "    <tr>\n",
       "      <th>estado3</th>\n",
       "      <td>1.6</td>\n",
       "      <td>2006</td>\n",
       "    </tr>\n",
       "    <tr>\n",
       "      <th>estado4</th>\n",
       "      <td>2.4</td>\n",
       "      <td>2007</td>\n",
       "    </tr>\n",
       "    <tr>\n",
       "      <th>estado5</th>\n",
       "      <td>2.7</td>\n",
       "      <td>2008</td>\n",
       "    </tr>\n",
       "  </tbody>\n",
       "</table>\n",
       "</div>"
      ],
      "text/plain": [
       "         Taxa Desemprego   Ano\n",
       "estado1              1.5  2004\n",
       "estado2              1.7  2005\n",
       "estado3              1.6  2006\n",
       "estado4              2.4  2007\n",
       "estado5              2.7  2008"
      ]
     },
     "execution_count": 13,
     "metadata": {},
     "output_type": "execute_result"
    }
   ],
   "source": [
    "df2[['Taxa Desemprego', 'Ano']]"
   ]
  },
  {
   "cell_type": "code",
   "execution_count": 14,
   "metadata": {},
   "outputs": [
    {
     "data": {
      "text/plain": [
       "Index(['estado1', 'estado2', 'estado3', 'estado4', 'estado5'], dtype='object')"
      ]
     },
     "execution_count": 14,
     "metadata": {},
     "output_type": "execute_result"
    }
   ],
   "source": [
    "df2.index"
   ]
  },
  {
   "cell_type": "code",
   "execution_count": 15,
   "metadata": {},
   "outputs": [
    {
     "data": {
      "text/html": [
       "<div>\n",
       "<style scoped>\n",
       "    .dataframe tbody tr th:only-of-type {\n",
       "        vertical-align: middle;\n",
       "    }\n",
       "\n",
       "    .dataframe tbody tr th {\n",
       "        vertical-align: top;\n",
       "    }\n",
       "\n",
       "    .dataframe thead th {\n",
       "        text-align: right;\n",
       "    }\n",
       "</style>\n",
       "<table border=\"1\" class=\"dataframe\">\n",
       "  <thead>\n",
       "    <tr style=\"text-align: right;\">\n",
       "      <th></th>\n",
       "      <th>Estado</th>\n",
       "      <th>Taxa Desemprego</th>\n",
       "      <th>Taxa Crescimento</th>\n",
       "      <th>Ano</th>\n",
       "    </tr>\n",
       "  </thead>\n",
       "  <tbody>\n",
       "    <tr>\n",
       "      <th>estado3</th>\n",
       "      <td>Tocantins</td>\n",
       "      <td>1.6</td>\n",
       "      <td>NaN</td>\n",
       "      <td>2006</td>\n",
       "    </tr>\n",
       "  </tbody>\n",
       "</table>\n",
       "</div>"
      ],
      "text/plain": [
       "            Estado  Taxa Desemprego Taxa Crescimento   Ano\n",
       "estado3  Tocantins              1.6              NaN  2006"
      ]
     },
     "execution_count": 15,
     "metadata": {},
     "output_type": "execute_result"
    }
   ],
   "source": [
    "df2.filter(items = ['estado3'], axis=0)"
   ]
  },
  {
   "cell_type": "code",
   "execution_count": 16,
   "metadata": {},
   "outputs": [
    {
     "data": {
      "text/html": [
       "<div>\n",
       "<style scoped>\n",
       "    .dataframe tbody tr th:only-of-type {\n",
       "        vertical-align: middle;\n",
       "    }\n",
       "\n",
       "    .dataframe tbody tr th {\n",
       "        vertical-align: top;\n",
       "    }\n",
       "\n",
       "    .dataframe thead th {\n",
       "        text-align: right;\n",
       "    }\n",
       "</style>\n",
       "<table border=\"1\" class=\"dataframe\">\n",
       "  <thead>\n",
       "    <tr style=\"text-align: right;\">\n",
       "      <th></th>\n",
       "      <th>Estado</th>\n",
       "      <th>Taxa Desemprego</th>\n",
       "      <th>Taxa Crescimento</th>\n",
       "      <th>Ano</th>\n",
       "    </tr>\n",
       "  </thead>\n",
       "  <tbody>\n",
       "    <tr>\n",
       "      <th>estado1</th>\n",
       "      <td>Santa Catarina</td>\n",
       "      <td>1.5</td>\n",
       "      <td>NaN</td>\n",
       "      <td>2004</td>\n",
       "    </tr>\n",
       "    <tr>\n",
       "      <th>estado2</th>\n",
       "      <td>Rio de Janeiro</td>\n",
       "      <td>1.7</td>\n",
       "      <td>NaN</td>\n",
       "      <td>2005</td>\n",
       "    </tr>\n",
       "    <tr>\n",
       "      <th>estado3</th>\n",
       "      <td>Tocantins</td>\n",
       "      <td>1.6</td>\n",
       "      <td>NaN</td>\n",
       "      <td>2006</td>\n",
       "    </tr>\n",
       "    <tr>\n",
       "      <th>estado4</th>\n",
       "      <td>Bahia</td>\n",
       "      <td>2.4</td>\n",
       "      <td>NaN</td>\n",
       "      <td>2007</td>\n",
       "    </tr>\n",
       "    <tr>\n",
       "      <th>estado5</th>\n",
       "      <td>Minas Gerais</td>\n",
       "      <td>2.7</td>\n",
       "      <td>NaN</td>\n",
       "      <td>2008</td>\n",
       "    </tr>\n",
       "  </tbody>\n",
       "</table>\n",
       "</div>"
      ],
      "text/plain": [
       "                 Estado  Taxa Desemprego Taxa Crescimento   Ano\n",
       "estado1  Santa Catarina              1.5              NaN  2004\n",
       "estado2  Rio de Janeiro              1.7              NaN  2005\n",
       "estado3       Tocantins              1.6              NaN  2006\n",
       "estado4           Bahia              2.4              NaN  2007\n",
       "estado5    Minas Gerais              2.7              NaN  2008"
      ]
     },
     "execution_count": 16,
     "metadata": {},
     "output_type": "execute_result"
    }
   ],
   "source": [
    "df2.head()"
   ]
  },
  {
   "cell_type": "code",
   "execution_count": 17,
   "metadata": {},
   "outputs": [
    {
     "data": {
      "text/html": [
       "<div>\n",
       "<style scoped>\n",
       "    .dataframe tbody tr th:only-of-type {\n",
       "        vertical-align: middle;\n",
       "    }\n",
       "\n",
       "    .dataframe tbody tr th {\n",
       "        vertical-align: top;\n",
       "    }\n",
       "\n",
       "    .dataframe thead th {\n",
       "        text-align: right;\n",
       "    }\n",
       "</style>\n",
       "<table border=\"1\" class=\"dataframe\">\n",
       "  <thead>\n",
       "    <tr style=\"text-align: right;\">\n",
       "      <th></th>\n",
       "      <th>Taxa Desemprego</th>\n",
       "      <th>Ano</th>\n",
       "    </tr>\n",
       "  </thead>\n",
       "  <tbody>\n",
       "    <tr>\n",
       "      <th>count</th>\n",
       "      <td>5.000000</td>\n",
       "      <td>5.000000</td>\n",
       "    </tr>\n",
       "    <tr>\n",
       "      <th>mean</th>\n",
       "      <td>1.980000</td>\n",
       "      <td>2006.000000</td>\n",
       "    </tr>\n",
       "    <tr>\n",
       "      <th>std</th>\n",
       "      <td>0.535724</td>\n",
       "      <td>1.581139</td>\n",
       "    </tr>\n",
       "    <tr>\n",
       "      <th>min</th>\n",
       "      <td>1.500000</td>\n",
       "      <td>2004.000000</td>\n",
       "    </tr>\n",
       "    <tr>\n",
       "      <th>25%</th>\n",
       "      <td>1.600000</td>\n",
       "      <td>2005.000000</td>\n",
       "    </tr>\n",
       "    <tr>\n",
       "      <th>50%</th>\n",
       "      <td>1.700000</td>\n",
       "      <td>2006.000000</td>\n",
       "    </tr>\n",
       "    <tr>\n",
       "      <th>75%</th>\n",
       "      <td>2.400000</td>\n",
       "      <td>2007.000000</td>\n",
       "    </tr>\n",
       "    <tr>\n",
       "      <th>max</th>\n",
       "      <td>2.700000</td>\n",
       "      <td>2008.000000</td>\n",
       "    </tr>\n",
       "  </tbody>\n",
       "</table>\n",
       "</div>"
      ],
      "text/plain": [
       "       Taxa Desemprego          Ano\n",
       "count         5.000000     5.000000\n",
       "mean          1.980000  2006.000000\n",
       "std           0.535724     1.581139\n",
       "min           1.500000  2004.000000\n",
       "25%           1.600000  2005.000000\n",
       "50%           1.700000  2006.000000\n",
       "75%           2.400000  2007.000000\n",
       "max           2.700000  2008.000000"
      ]
     },
     "execution_count": 17,
     "metadata": {},
     "output_type": "execute_result"
    }
   ],
   "source": [
    "df2.describe() #resumo estatístico, só retorna as colunas numéricas"
   ]
  },
  {
   "cell_type": "code",
   "execution_count": 18,
   "metadata": {},
   "outputs": [
    {
     "data": {
      "text/html": [
       "<div>\n",
       "<style scoped>\n",
       "    .dataframe tbody tr th:only-of-type {\n",
       "        vertical-align: middle;\n",
       "    }\n",
       "\n",
       "    .dataframe tbody tr th {\n",
       "        vertical-align: top;\n",
       "    }\n",
       "\n",
       "    .dataframe thead th {\n",
       "        text-align: right;\n",
       "    }\n",
       "</style>\n",
       "<table border=\"1\" class=\"dataframe\">\n",
       "  <thead>\n",
       "    <tr style=\"text-align: right;\">\n",
       "      <th></th>\n",
       "      <th>Estado</th>\n",
       "      <th>Taxa Desemprego</th>\n",
       "      <th>Taxa Crescimento</th>\n",
       "      <th>Ano</th>\n",
       "    </tr>\n",
       "  </thead>\n",
       "  <tbody>\n",
       "    <tr>\n",
       "      <th>estado1</th>\n",
       "      <td>False</td>\n",
       "      <td>False</td>\n",
       "      <td>True</td>\n",
       "      <td>False</td>\n",
       "    </tr>\n",
       "    <tr>\n",
       "      <th>estado2</th>\n",
       "      <td>False</td>\n",
       "      <td>False</td>\n",
       "      <td>True</td>\n",
       "      <td>False</td>\n",
       "    </tr>\n",
       "    <tr>\n",
       "      <th>estado3</th>\n",
       "      <td>False</td>\n",
       "      <td>False</td>\n",
       "      <td>True</td>\n",
       "      <td>False</td>\n",
       "    </tr>\n",
       "    <tr>\n",
       "      <th>estado4</th>\n",
       "      <td>False</td>\n",
       "      <td>False</td>\n",
       "      <td>True</td>\n",
       "      <td>False</td>\n",
       "    </tr>\n",
       "    <tr>\n",
       "      <th>estado5</th>\n",
       "      <td>False</td>\n",
       "      <td>False</td>\n",
       "      <td>True</td>\n",
       "      <td>False</td>\n",
       "    </tr>\n",
       "  </tbody>\n",
       "</table>\n",
       "</div>"
      ],
      "text/plain": [
       "         Estado  Taxa Desemprego  Taxa Crescimento    Ano\n",
       "estado1   False            False              True  False\n",
       "estado2   False            False              True  False\n",
       "estado3   False            False              True  False\n",
       "estado4   False            False              True  False\n",
       "estado5   False            False              True  False"
      ]
     },
     "execution_count": 18,
     "metadata": {},
     "output_type": "execute_result"
    }
   ],
   "source": [
    "df2.isna()"
   ]
  },
  {
   "cell_type": "code",
   "execution_count": 19,
   "metadata": {},
   "outputs": [
    {
     "data": {
      "text/plain": [
       "estado1    True\n",
       "estado2    True\n",
       "estado3    True\n",
       "estado4    True\n",
       "estado5    True\n",
       "Name: Taxa Crescimento, dtype: bool"
      ]
     },
     "execution_count": 19,
     "metadata": {},
     "output_type": "execute_result"
    }
   ],
   "source": [
    "df2['Taxa Crescimento'].isna()"
   ]
  },
  {
   "cell_type": "code",
   "execution_count": 29,
   "metadata": {},
   "outputs": [],
   "source": [
    "import numpy as np\n",
    "import pandas as pd"
   ]
  },
  {
   "cell_type": "code",
   "execution_count": 21,
   "metadata": {},
   "outputs": [],
   "source": [
    "df2['Taxa Crescimento'] = np.arange(5.)"
   ]
  },
  {
   "cell_type": "code",
   "execution_count": 22,
   "metadata": {},
   "outputs": [
    {
     "data": {
      "text/html": [
       "<div>\n",
       "<style scoped>\n",
       "    .dataframe tbody tr th:only-of-type {\n",
       "        vertical-align: middle;\n",
       "    }\n",
       "\n",
       "    .dataframe tbody tr th {\n",
       "        vertical-align: top;\n",
       "    }\n",
       "\n",
       "    .dataframe thead th {\n",
       "        text-align: right;\n",
       "    }\n",
       "</style>\n",
       "<table border=\"1\" class=\"dataframe\">\n",
       "  <thead>\n",
       "    <tr style=\"text-align: right;\">\n",
       "      <th></th>\n",
       "      <th>Estado</th>\n",
       "      <th>Taxa Desemprego</th>\n",
       "      <th>Taxa Crescimento</th>\n",
       "      <th>Ano</th>\n",
       "    </tr>\n",
       "  </thead>\n",
       "  <tbody>\n",
       "    <tr>\n",
       "      <th>estado1</th>\n",
       "      <td>Santa Catarina</td>\n",
       "      <td>1.5</td>\n",
       "      <td>0.0</td>\n",
       "      <td>2004</td>\n",
       "    </tr>\n",
       "    <tr>\n",
       "      <th>estado2</th>\n",
       "      <td>Rio de Janeiro</td>\n",
       "      <td>1.7</td>\n",
       "      <td>1.0</td>\n",
       "      <td>2005</td>\n",
       "    </tr>\n",
       "    <tr>\n",
       "      <th>estado3</th>\n",
       "      <td>Tocantins</td>\n",
       "      <td>1.6</td>\n",
       "      <td>2.0</td>\n",
       "      <td>2006</td>\n",
       "    </tr>\n",
       "    <tr>\n",
       "      <th>estado4</th>\n",
       "      <td>Bahia</td>\n",
       "      <td>2.4</td>\n",
       "      <td>3.0</td>\n",
       "      <td>2007</td>\n",
       "    </tr>\n",
       "    <tr>\n",
       "      <th>estado5</th>\n",
       "      <td>Minas Gerais</td>\n",
       "      <td>2.7</td>\n",
       "      <td>4.0</td>\n",
       "      <td>2008</td>\n",
       "    </tr>\n",
       "  </tbody>\n",
       "</table>\n",
       "</div>"
      ],
      "text/plain": [
       "                 Estado  Taxa Desemprego  Taxa Crescimento   Ano\n",
       "estado1  Santa Catarina              1.5               0.0  2004\n",
       "estado2  Rio de Janeiro              1.7               1.0  2005\n",
       "estado3       Tocantins              1.6               2.0  2006\n",
       "estado4           Bahia              2.4               3.0  2007\n",
       "estado5    Minas Gerais              2.7               4.0  2008"
      ]
     },
     "execution_count": 22,
     "metadata": {},
     "output_type": "execute_result"
    }
   ],
   "source": [
    "df2"
   ]
  },
  {
   "cell_type": "code",
   "execution_count": 23,
   "metadata": {},
   "outputs": [
    {
     "data": {
      "text/plain": [
       "estado1    False\n",
       "estado2    False\n",
       "estado3    False\n",
       "estado4    False\n",
       "estado5    False\n",
       "Name: Taxa Crescimento, dtype: bool"
      ]
     },
     "execution_count": 23,
     "metadata": {},
     "output_type": "execute_result"
    }
   ],
   "source": [
    "df2['Taxa Crescimento'].isna()"
   ]
  },
  {
   "cell_type": "code",
   "execution_count": 24,
   "metadata": {},
   "outputs": [
    {
     "data": {
      "text/plain": [
       "Estado               object\n",
       "Taxa Desemprego     float64\n",
       "Taxa Crescimento    float64\n",
       "Ano                   int64\n",
       "dtype: object"
      ]
     },
     "execution_count": 24,
     "metadata": {},
     "output_type": "execute_result"
    }
   ],
   "source": [
    "df2.dtypes"
   ]
  },
  {
   "cell_type": "code",
   "execution_count": 25,
   "metadata": {},
   "outputs": [
    {
     "data": {
      "text/plain": [
       "<bound method NDFrame.describe of                  Estado  Taxa Desemprego  Taxa Crescimento   Ano\n",
       "estado1  Santa Catarina              1.5               0.0  2004\n",
       "estado2  Rio de Janeiro              1.7               1.0  2005\n",
       "estado3       Tocantins              1.6               2.0  2006\n",
       "estado4           Bahia              2.4               3.0  2007\n",
       "estado5    Minas Gerais              2.7               4.0  2008>"
      ]
     },
     "execution_count": 25,
     "metadata": {},
     "output_type": "execute_result"
    }
   ],
   "source": [
    "df2.describe"
   ]
  },
  {
   "cell_type": "code",
   "execution_count": 26,
   "metadata": {},
   "outputs": [
    {
     "data": {
      "text/html": [
       "<div>\n",
       "<style scoped>\n",
       "    .dataframe tbody tr th:only-of-type {\n",
       "        vertical-align: middle;\n",
       "    }\n",
       "\n",
       "    .dataframe tbody tr th {\n",
       "        vertical-align: top;\n",
       "    }\n",
       "\n",
       "    .dataframe thead th {\n",
       "        text-align: right;\n",
       "    }\n",
       "</style>\n",
       "<table border=\"1\" class=\"dataframe\">\n",
       "  <thead>\n",
       "    <tr style=\"text-align: right;\">\n",
       "      <th></th>\n",
       "      <th>Estado</th>\n",
       "      <th>Taxa Desemprego</th>\n",
       "      <th>Taxa Crescimento</th>\n",
       "      <th>Ano</th>\n",
       "    </tr>\n",
       "  </thead>\n",
       "  <tbody>\n",
       "    <tr>\n",
       "      <th>estado2</th>\n",
       "      <td>Rio de Janeiro</td>\n",
       "      <td>1.7</td>\n",
       "      <td>1.0</td>\n",
       "      <td>2005</td>\n",
       "    </tr>\n",
       "    <tr>\n",
       "      <th>estado3</th>\n",
       "      <td>Tocantins</td>\n",
       "      <td>1.6</td>\n",
       "      <td>2.0</td>\n",
       "      <td>2006</td>\n",
       "    </tr>\n",
       "    <tr>\n",
       "      <th>estado4</th>\n",
       "      <td>Bahia</td>\n",
       "      <td>2.4</td>\n",
       "      <td>3.0</td>\n",
       "      <td>2007</td>\n",
       "    </tr>\n",
       "  </tbody>\n",
       "</table>\n",
       "</div>"
      ],
      "text/plain": [
       "                 Estado  Taxa Desemprego  Taxa Crescimento   Ano\n",
       "estado2  Rio de Janeiro              1.7               1.0  2005\n",
       "estado3       Tocantins              1.6               2.0  2006\n",
       "estado4           Bahia              2.4               3.0  2007"
      ]
     },
     "execution_count": 26,
     "metadata": {},
     "output_type": "execute_result"
    }
   ],
   "source": [
    "df2['estado2':'estado4']"
   ]
  },
  {
   "cell_type": "code",
   "execution_count": 27,
   "metadata": {},
   "outputs": [
    {
     "data": {
      "text/html": [
       "<div>\n",
       "<style scoped>\n",
       "    .dataframe tbody tr th:only-of-type {\n",
       "        vertical-align: middle;\n",
       "    }\n",
       "\n",
       "    .dataframe tbody tr th {\n",
       "        vertical-align: top;\n",
       "    }\n",
       "\n",
       "    .dataframe thead th {\n",
       "        text-align: right;\n",
       "    }\n",
       "</style>\n",
       "<table border=\"1\" class=\"dataframe\">\n",
       "  <thead>\n",
       "    <tr style=\"text-align: right;\">\n",
       "      <th></th>\n",
       "      <th>Estado</th>\n",
       "      <th>Taxa Desemprego</th>\n",
       "      <th>Taxa Crescimento</th>\n",
       "      <th>Ano</th>\n",
       "    </tr>\n",
       "  </thead>\n",
       "  <tbody>\n",
       "    <tr>\n",
       "      <th>estado1</th>\n",
       "      <td>Santa Catarina</td>\n",
       "      <td>1.5</td>\n",
       "      <td>0.0</td>\n",
       "      <td>2004</td>\n",
       "    </tr>\n",
       "    <tr>\n",
       "      <th>estado2</th>\n",
       "      <td>Rio de Janeiro</td>\n",
       "      <td>1.7</td>\n",
       "      <td>1.0</td>\n",
       "      <td>2005</td>\n",
       "    </tr>\n",
       "    <tr>\n",
       "      <th>estado3</th>\n",
       "      <td>Tocantins</td>\n",
       "      <td>1.6</td>\n",
       "      <td>2.0</td>\n",
       "      <td>2006</td>\n",
       "    </tr>\n",
       "  </tbody>\n",
       "</table>\n",
       "</div>"
      ],
      "text/plain": [
       "                 Estado  Taxa Desemprego  Taxa Crescimento   Ano\n",
       "estado1  Santa Catarina              1.5               0.0  2004\n",
       "estado2  Rio de Janeiro              1.7               1.0  2005\n",
       "estado3       Tocantins              1.6               2.0  2006"
      ]
     },
     "execution_count": 27,
     "metadata": {},
     "output_type": "execute_result"
    }
   ],
   "source": [
    "df2[df2['Taxa Desemprego'] < 2]"
   ]
  },
  {
   "cell_type": "code",
   "execution_count": 30,
   "metadata": {},
   "outputs": [],
   "source": [
    "df = pd.read_csv('dataset.csv')"
   ]
  },
  {
   "cell_type": "code",
   "execution_count": 33,
   "metadata": {},
   "outputs": [
    {
     "data": {
      "text/html": [
       "<div>\n",
       "<style scoped>\n",
       "    .dataframe tbody tr th:only-of-type {\n",
       "        vertical-align: middle;\n",
       "    }\n",
       "\n",
       "    .dataframe tbody tr th {\n",
       "        vertical-align: top;\n",
       "    }\n",
       "\n",
       "    .dataframe thead th {\n",
       "        text-align: right;\n",
       "    }\n",
       "</style>\n",
       "<table border=\"1\" class=\"dataframe\">\n",
       "  <thead>\n",
       "    <tr style=\"text-align: right;\">\n",
       "      <th></th>\n",
       "      <th>ID_Pedido</th>\n",
       "      <th>Data_Pedido</th>\n",
       "      <th>ID_Cliente</th>\n",
       "      <th>Segmento</th>\n",
       "      <th>Pais</th>\n",
       "      <th>Regiao</th>\n",
       "      <th>ID_Produto</th>\n",
       "      <th>Categoria</th>\n",
       "      <th>Nome_Produto</th>\n",
       "      <th>Valor_Venda</th>\n",
       "      <th>Quantidade</th>\n",
       "    </tr>\n",
       "  </thead>\n",
       "  <tbody>\n",
       "    <tr>\n",
       "      <th>0</th>\n",
       "      <td>CA-2016-152156</td>\n",
       "      <td>2016-11-08</td>\n",
       "      <td>CG-12520</td>\n",
       "      <td>Consumer</td>\n",
       "      <td>United States</td>\n",
       "      <td>South</td>\n",
       "      <td>FUR-BO-10001798</td>\n",
       "      <td>Furniture</td>\n",
       "      <td>Bush Somerset Collection Bookcase</td>\n",
       "      <td>261.9600</td>\n",
       "      <td>NaN</td>\n",
       "    </tr>\n",
       "    <tr>\n",
       "      <th>1</th>\n",
       "      <td>CA-2016-152156</td>\n",
       "      <td>2016-11-08</td>\n",
       "      <td>CG-12520</td>\n",
       "      <td>Consumer</td>\n",
       "      <td>United States</td>\n",
       "      <td>South</td>\n",
       "      <td>FUR-CH-10000454</td>\n",
       "      <td>Furniture</td>\n",
       "      <td>Hon Deluxe Fabric Upholstered Stacking Chairs,...</td>\n",
       "      <td>731.9400</td>\n",
       "      <td>NaN</td>\n",
       "    </tr>\n",
       "    <tr>\n",
       "      <th>2</th>\n",
       "      <td>CA-2016-138688</td>\n",
       "      <td>2016-06-12</td>\n",
       "      <td>DV-13045</td>\n",
       "      <td>Corporate</td>\n",
       "      <td>United States</td>\n",
       "      <td>West</td>\n",
       "      <td>OFF-LA-10000240</td>\n",
       "      <td>Office Supplies</td>\n",
       "      <td>Self-Adhesive Address Labels for Typewriters b...</td>\n",
       "      <td>14.6200</td>\n",
       "      <td>2.0</td>\n",
       "    </tr>\n",
       "    <tr>\n",
       "      <th>3</th>\n",
       "      <td>US-2015-108966</td>\n",
       "      <td>2015-10-11</td>\n",
       "      <td>SO-20335</td>\n",
       "      <td>Consumer</td>\n",
       "      <td>United States</td>\n",
       "      <td>South</td>\n",
       "      <td>FUR-TA-10000577</td>\n",
       "      <td>Furniture</td>\n",
       "      <td>Bretford CR4500 Series Slim Rectangular Table</td>\n",
       "      <td>957.5775</td>\n",
       "      <td>5.0</td>\n",
       "    </tr>\n",
       "    <tr>\n",
       "      <th>4</th>\n",
       "      <td>US-2015-108966</td>\n",
       "      <td>2015-10-11</td>\n",
       "      <td>SO-20335</td>\n",
       "      <td>Consumer</td>\n",
       "      <td>United States</td>\n",
       "      <td>South</td>\n",
       "      <td>OFF-ST-10000760</td>\n",
       "      <td>Office Supplies</td>\n",
       "      <td>Eldon Fold 'N Roll Cart System</td>\n",
       "      <td>22.3680</td>\n",
       "      <td>2.0</td>\n",
       "    </tr>\n",
       "  </tbody>\n",
       "</table>\n",
       "</div>"
      ],
      "text/plain": [
       "        ID_Pedido Data_Pedido  ... Valor_Venda Quantidade\n",
       "0  CA-2016-152156  2016-11-08  ...    261.9600        NaN\n",
       "1  CA-2016-152156  2016-11-08  ...    731.9400        NaN\n",
       "2  CA-2016-138688  2016-06-12  ...     14.6200        2.0\n",
       "3  US-2015-108966  2015-10-11  ...    957.5775        5.0\n",
       "4  US-2015-108966  2015-10-11  ...     22.3680        2.0\n",
       "\n",
       "[5 rows x 11 columns]"
      ]
     },
     "execution_count": 33,
     "metadata": {},
     "output_type": "execute_result"
    }
   ],
   "source": [
    "df.head()"
   ]
  },
  {
   "cell_type": "code",
   "execution_count": 34,
   "metadata": {},
   "outputs": [
    {
     "data": {
      "text/plain": [
       "ID_Pedido       0\n",
       "Data_Pedido     0\n",
       "ID_Cliente      0\n",
       "Segmento        0\n",
       "Pais            0\n",
       "Regiao          0\n",
       "ID_Produto      0\n",
       "Categoria       0\n",
       "Nome_Produto    0\n",
       "Valor_Venda     0\n",
       "Quantidade      2\n",
       "dtype: int64"
      ]
     },
     "execution_count": 34,
     "metadata": {},
     "output_type": "execute_result"
    }
   ],
   "source": [
    "df.isna().sum()"
   ]
  },
  {
   "cell_type": "code",
   "execution_count": 36,
   "metadata": {},
   "outputs": [],
   "source": [
    "moda = df['Quantidade'].value_counts().index[0]"
   ]
  },
  {
   "cell_type": "code",
   "execution_count": 37,
   "metadata": {},
   "outputs": [
    {
     "name": "stdout",
     "output_type": "stream",
     "text": [
      "3.0\n"
     ]
    }
   ],
   "source": [
    "print(moda)"
   ]
  },
  {
   "cell_type": "code",
   "execution_count": 38,
   "metadata": {},
   "outputs": [],
   "source": [
    "df['Quantidade'].fillna(value = moda, inplace=True) \n",
    "#preenche os valores ausentes com a moda\n",
    "#o inplace altera diretamente no dataset original"
   ]
  },
  {
   "cell_type": "code",
   "execution_count": 39,
   "metadata": {},
   "outputs": [
    {
     "data": {
      "text/plain": [
       "ID_Pedido       0\n",
       "Data_Pedido     0\n",
       "ID_Cliente      0\n",
       "Segmento        0\n",
       "Pais            0\n",
       "Regiao          0\n",
       "ID_Produto      0\n",
       "Categoria       0\n",
       "Nome_Produto    0\n",
       "Valor_Venda     0\n",
       "Quantidade      0\n",
       "dtype: int64"
      ]
     },
     "execution_count": 39,
     "metadata": {},
     "output_type": "execute_result"
    }
   ],
   "source": [
    "df.isna().sum()"
   ]
  },
  {
   "cell_type": "code",
   "execution_count": 40,
   "metadata": {},
   "outputs": [
    {
     "data": {
      "text/plain": [
       "count     9994.000000\n",
       "mean       229.858001\n",
       "std        623.245101\n",
       "min          0.444000\n",
       "25%         17.280000\n",
       "50%         54.490000\n",
       "75%        209.940000\n",
       "max      22638.480000\n",
       "Name: Valor_Venda, dtype: float64"
      ]
     },
     "execution_count": 40,
     "metadata": {},
     "output_type": "execute_result"
    }
   ],
   "source": [
    "df.Valor_Venda.describe()"
   ]
  },
  {
   "cell_type": "code",
   "execution_count": 41,
   "metadata": {},
   "outputs": [],
   "source": [
    "df2 = df.query('229 < Valor_Venda < 10000')"
   ]
  },
  {
   "cell_type": "code",
   "execution_count": 42,
   "metadata": {},
   "outputs": [
    {
     "data": {
      "text/plain": [
       "count    2357.000000\n",
       "mean      766.679142\n",
       "std       856.315136\n",
       "min       229.544000\n",
       "25%       323.100000\n",
       "50%       490.320000\n",
       "75%       859.200000\n",
       "max      9892.740000\n",
       "Name: Valor_Venda, dtype: float64"
      ]
     },
     "execution_count": 42,
     "metadata": {},
     "output_type": "execute_result"
    }
   ],
   "source": [
    "df2.Valor_Venda.describe()"
   ]
  },
  {
   "cell_type": "code",
   "execution_count": 43,
   "metadata": {},
   "outputs": [],
   "source": [
    "df3 = df2.query('Valor_Venda > 766')"
   ]
  },
  {
   "cell_type": "code",
   "execution_count": 44,
   "metadata": {},
   "outputs": [
    {
     "data": {
      "text/html": [
       "<div>\n",
       "<style scoped>\n",
       "    .dataframe tbody tr th:only-of-type {\n",
       "        vertical-align: middle;\n",
       "    }\n",
       "\n",
       "    .dataframe tbody tr th {\n",
       "        vertical-align: top;\n",
       "    }\n",
       "\n",
       "    .dataframe thead th {\n",
       "        text-align: right;\n",
       "    }\n",
       "</style>\n",
       "<table border=\"1\" class=\"dataframe\">\n",
       "  <thead>\n",
       "    <tr style=\"text-align: right;\">\n",
       "      <th></th>\n",
       "      <th>ID_Pedido</th>\n",
       "      <th>Data_Pedido</th>\n",
       "      <th>ID_Cliente</th>\n",
       "      <th>Segmento</th>\n",
       "      <th>Pais</th>\n",
       "      <th>Regiao</th>\n",
       "      <th>ID_Produto</th>\n",
       "      <th>Categoria</th>\n",
       "      <th>Nome_Produto</th>\n",
       "      <th>Valor_Venda</th>\n",
       "      <th>Quantidade</th>\n",
       "    </tr>\n",
       "  </thead>\n",
       "  <tbody>\n",
       "    <tr>\n",
       "      <th>3</th>\n",
       "      <td>US-2015-108966</td>\n",
       "      <td>2015-10-11</td>\n",
       "      <td>SO-20335</td>\n",
       "      <td>Consumer</td>\n",
       "      <td>United States</td>\n",
       "      <td>South</td>\n",
       "      <td>FUR-TA-10000577</td>\n",
       "      <td>Furniture</td>\n",
       "      <td>Bretford CR4500 Series Slim Rectangular Table</td>\n",
       "      <td>957.5775</td>\n",
       "      <td>5.0</td>\n",
       "    </tr>\n",
       "    <tr>\n",
       "      <th>7</th>\n",
       "      <td>CA-2014-115812</td>\n",
       "      <td>2014-06-09</td>\n",
       "      <td>BH-11710</td>\n",
       "      <td>Consumer</td>\n",
       "      <td>United States</td>\n",
       "      <td>West</td>\n",
       "      <td>TEC-PH-10002275</td>\n",
       "      <td>Technology</td>\n",
       "      <td>Mitel 5320 IP Phone VoIP phone</td>\n",
       "      <td>907.1520</td>\n",
       "      <td>6.0</td>\n",
       "    </tr>\n",
       "    <tr>\n",
       "      <th>10</th>\n",
       "      <td>CA-2014-115812</td>\n",
       "      <td>2014-06-09</td>\n",
       "      <td>BH-11710</td>\n",
       "      <td>Consumer</td>\n",
       "      <td>United States</td>\n",
       "      <td>West</td>\n",
       "      <td>FUR-TA-10001539</td>\n",
       "      <td>Furniture</td>\n",
       "      <td>Chromcraft Rectangular Conference Tables</td>\n",
       "      <td>1706.1840</td>\n",
       "      <td>9.0</td>\n",
       "    </tr>\n",
       "    <tr>\n",
       "      <th>11</th>\n",
       "      <td>CA-2014-115812</td>\n",
       "      <td>2014-06-09</td>\n",
       "      <td>BH-11710</td>\n",
       "      <td>Consumer</td>\n",
       "      <td>United States</td>\n",
       "      <td>West</td>\n",
       "      <td>TEC-PH-10002033</td>\n",
       "      <td>Technology</td>\n",
       "      <td>Konftel 250 Conference phone - Charcoal black</td>\n",
       "      <td>911.4240</td>\n",
       "      <td>4.0</td>\n",
       "    </tr>\n",
       "    <tr>\n",
       "      <th>24</th>\n",
       "      <td>CA-2015-106320</td>\n",
       "      <td>2015-09-25</td>\n",
       "      <td>EB-13870</td>\n",
       "      <td>Consumer</td>\n",
       "      <td>United States</td>\n",
       "      <td>West</td>\n",
       "      <td>FUR-TA-10000577</td>\n",
       "      <td>Furniture</td>\n",
       "      <td>Bretford CR4500 Series Slim Rectangular Table</td>\n",
       "      <td>1044.6300</td>\n",
       "      <td>3.0</td>\n",
       "    </tr>\n",
       "  </tbody>\n",
       "</table>\n",
       "</div>"
      ],
      "text/plain": [
       "         ID_Pedido Data_Pedido  ... Valor_Venda Quantidade\n",
       "3   US-2015-108966  2015-10-11  ...    957.5775        5.0\n",
       "7   CA-2014-115812  2014-06-09  ...    907.1520        6.0\n",
       "10  CA-2014-115812  2014-06-09  ...   1706.1840        9.0\n",
       "11  CA-2014-115812  2014-06-09  ...    911.4240        4.0\n",
       "24  CA-2015-106320  2015-09-25  ...   1044.6300        3.0\n",
       "\n",
       "[5 rows x 11 columns]"
      ]
     },
     "execution_count": 44,
     "metadata": {},
     "output_type": "execute_result"
    }
   ],
   "source": [
    "df3.head()"
   ]
  },
  {
   "cell_type": "code",
   "execution_count": 45,
   "metadata": {},
   "outputs": [
    {
     "data": {
      "text/plain": [
       "(9994, 11)"
      ]
     },
     "execution_count": 45,
     "metadata": {},
     "output_type": "execute_result"
    }
   ],
   "source": [
    "df.shape"
   ]
  },
  {
   "cell_type": "code",
   "execution_count": 46,
   "metadata": {},
   "outputs": [
    {
     "data": {
      "text/html": [
       "<div>\n",
       "<style scoped>\n",
       "    .dataframe tbody tr th:only-of-type {\n",
       "        vertical-align: middle;\n",
       "    }\n",
       "\n",
       "    .dataframe tbody tr th {\n",
       "        vertical-align: top;\n",
       "    }\n",
       "\n",
       "    .dataframe thead th {\n",
       "        text-align: right;\n",
       "    }\n",
       "</style>\n",
       "<table border=\"1\" class=\"dataframe\">\n",
       "  <thead>\n",
       "    <tr style=\"text-align: right;\">\n",
       "      <th></th>\n",
       "      <th>ID_Pedido</th>\n",
       "      <th>Data_Pedido</th>\n",
       "      <th>ID_Cliente</th>\n",
       "      <th>Segmento</th>\n",
       "      <th>Pais</th>\n",
       "      <th>Regiao</th>\n",
       "      <th>ID_Produto</th>\n",
       "      <th>Categoria</th>\n",
       "      <th>Nome_Produto</th>\n",
       "      <th>Valor_Venda</th>\n",
       "      <th>Quantidade</th>\n",
       "    </tr>\n",
       "  </thead>\n",
       "  <tbody>\n",
       "    <tr>\n",
       "      <th>3</th>\n",
       "      <td>US-2015-108966</td>\n",
       "      <td>2015-10-11</td>\n",
       "      <td>SO-20335</td>\n",
       "      <td>Consumer</td>\n",
       "      <td>United States</td>\n",
       "      <td>South</td>\n",
       "      <td>FUR-TA-10000577</td>\n",
       "      <td>Furniture</td>\n",
       "      <td>Bretford CR4500 Series Slim Rectangular Table</td>\n",
       "      <td>957.5775</td>\n",
       "      <td>5.0</td>\n",
       "    </tr>\n",
       "    <tr>\n",
       "      <th>5</th>\n",
       "      <td>CA-2014-115812</td>\n",
       "      <td>2014-06-09</td>\n",
       "      <td>BH-11710</td>\n",
       "      <td>Consumer</td>\n",
       "      <td>United States</td>\n",
       "      <td>West</td>\n",
       "      <td>FUR-FU-10001487</td>\n",
       "      <td>Furniture</td>\n",
       "      <td>Eldon Expressions Wood and Plastic Desk Access...</td>\n",
       "      <td>48.8600</td>\n",
       "      <td>7.0</td>\n",
       "    </tr>\n",
       "    <tr>\n",
       "      <th>9</th>\n",
       "      <td>CA-2014-115812</td>\n",
       "      <td>2014-06-09</td>\n",
       "      <td>BH-11710</td>\n",
       "      <td>Consumer</td>\n",
       "      <td>United States</td>\n",
       "      <td>West</td>\n",
       "      <td>OFF-AP-10002892</td>\n",
       "      <td>Office Supplies</td>\n",
       "      <td>Belkin F5C206VTEL 6 Outlet Surge</td>\n",
       "      <td>114.9000</td>\n",
       "      <td>5.0</td>\n",
       "    </tr>\n",
       "    <tr>\n",
       "      <th>10</th>\n",
       "      <td>CA-2014-115812</td>\n",
       "      <td>2014-06-09</td>\n",
       "      <td>BH-11710</td>\n",
       "      <td>Consumer</td>\n",
       "      <td>United States</td>\n",
       "      <td>West</td>\n",
       "      <td>FUR-TA-10001539</td>\n",
       "      <td>Furniture</td>\n",
       "      <td>Chromcraft Rectangular Conference Tables</td>\n",
       "      <td>1706.1840</td>\n",
       "      <td>9.0</td>\n",
       "    </tr>\n",
       "    <tr>\n",
       "      <th>14</th>\n",
       "      <td>US-2015-118983</td>\n",
       "      <td>2015-11-22</td>\n",
       "      <td>HP-14815</td>\n",
       "      <td>Home Office</td>\n",
       "      <td>United States</td>\n",
       "      <td>Central</td>\n",
       "      <td>OFF-AP-10002311</td>\n",
       "      <td>Office Supplies</td>\n",
       "      <td>Holmes Replacement Filter for HEPA Air Cleaner...</td>\n",
       "      <td>68.8100</td>\n",
       "      <td>5.0</td>\n",
       "    </tr>\n",
       "    <tr>\n",
       "      <th>...</th>\n",
       "      <td>...</td>\n",
       "      <td>...</td>\n",
       "      <td>...</td>\n",
       "      <td>...</td>\n",
       "      <td>...</td>\n",
       "      <td>...</td>\n",
       "      <td>...</td>\n",
       "      <td>...</td>\n",
       "      <td>...</td>\n",
       "      <td>...</td>\n",
       "      <td>...</td>\n",
       "    </tr>\n",
       "    <tr>\n",
       "      <th>9974</th>\n",
       "      <td>US-2016-103674</td>\n",
       "      <td>2016-12-06</td>\n",
       "      <td>AP-10720</td>\n",
       "      <td>Home Office</td>\n",
       "      <td>United States</td>\n",
       "      <td>West</td>\n",
       "      <td>OFF-AR-10004752</td>\n",
       "      <td>Office Supplies</td>\n",
       "      <td>Blackstonian Pencils</td>\n",
       "      <td>18.6900</td>\n",
       "      <td>7.0</td>\n",
       "    </tr>\n",
       "    <tr>\n",
       "      <th>9977</th>\n",
       "      <td>US-2016-103674</td>\n",
       "      <td>2016-12-06</td>\n",
       "      <td>AP-10720</td>\n",
       "      <td>Home Office</td>\n",
       "      <td>United States</td>\n",
       "      <td>West</td>\n",
       "      <td>OFF-FA-10003467</td>\n",
       "      <td>Office Supplies</td>\n",
       "      <td>Alliance Big Bands Rubber Bands, 12/Pack</td>\n",
       "      <td>13.8600</td>\n",
       "      <td>7.0</td>\n",
       "    </tr>\n",
       "    <tr>\n",
       "      <th>9981</th>\n",
       "      <td>CA-2017-163566</td>\n",
       "      <td>2017-08-03</td>\n",
       "      <td>TB-21055</td>\n",
       "      <td>Consumer</td>\n",
       "      <td>United States</td>\n",
       "      <td>East</td>\n",
       "      <td>OFF-LA-10004484</td>\n",
       "      <td>Office Supplies</td>\n",
       "      <td>Avery 476</td>\n",
       "      <td>16.5200</td>\n",
       "      <td>5.0</td>\n",
       "    </tr>\n",
       "    <tr>\n",
       "      <th>9982</th>\n",
       "      <td>US-2016-157728</td>\n",
       "      <td>2016-09-22</td>\n",
       "      <td>RC-19960</td>\n",
       "      <td>Consumer</td>\n",
       "      <td>United States</td>\n",
       "      <td>Central</td>\n",
       "      <td>OFF-PA-10002195</td>\n",
       "      <td>Office Supplies</td>\n",
       "      <td>RSVP Cards &amp; Envelopes, Blank White, 8-1/2\" X ...</td>\n",
       "      <td>35.5600</td>\n",
       "      <td>7.0</td>\n",
       "    </tr>\n",
       "    <tr>\n",
       "      <th>9988</th>\n",
       "      <td>CA-2017-163629</td>\n",
       "      <td>2017-11-17</td>\n",
       "      <td>RA-19885</td>\n",
       "      <td>Corporate</td>\n",
       "      <td>United States</td>\n",
       "      <td>South</td>\n",
       "      <td>TEC-PH-10004006</td>\n",
       "      <td>Technology</td>\n",
       "      <td>Panasonic KX - TS880B Telephone</td>\n",
       "      <td>206.1000</td>\n",
       "      <td>5.0</td>\n",
       "    </tr>\n",
       "  </tbody>\n",
       "</table>\n",
       "<p>2128 rows × 11 columns</p>\n",
       "</div>"
      ],
      "text/plain": [
       "           ID_Pedido Data_Pedido  ... Valor_Venda Quantidade\n",
       "3     US-2015-108966  2015-10-11  ...    957.5775        5.0\n",
       "5     CA-2014-115812  2014-06-09  ...     48.8600        7.0\n",
       "9     CA-2014-115812  2014-06-09  ...    114.9000        5.0\n",
       "10    CA-2014-115812  2014-06-09  ...   1706.1840        9.0\n",
       "14    US-2015-118983  2015-11-22  ...     68.8100        5.0\n",
       "...              ...         ...  ...         ...        ...\n",
       "9974  US-2016-103674  2016-12-06  ...     18.6900        7.0\n",
       "9977  US-2016-103674  2016-12-06  ...     13.8600        7.0\n",
       "9981  CA-2017-163566  2017-08-03  ...     16.5200        5.0\n",
       "9982  US-2016-157728  2016-09-22  ...     35.5600        7.0\n",
       "9988  CA-2017-163629  2017-11-17  ...    206.1000        5.0\n",
       "\n",
       "[2128 rows x 11 columns]"
      ]
     },
     "execution_count": 46,
     "metadata": {},
     "output_type": "execute_result"
    }
   ],
   "source": [
    "df[df['Quantidade'].isin([5, 7, 9, 11])]"
   ]
  },
  {
   "cell_type": "code",
   "execution_count": 47,
   "metadata": {},
   "outputs": [
    {
     "data": {
      "text/plain": [
       "(2128, 11)"
      ]
     },
     "execution_count": 47,
     "metadata": {},
     "output_type": "execute_result"
    }
   ],
   "source": [
    "df[df['Quantidade'].isin([5, 7, 9, 11])].shape"
   ]
  },
  {
   "cell_type": "code",
   "execution_count": 48,
   "metadata": {},
   "outputs": [
    {
     "data": {
      "text/html": [
       "<div>\n",
       "<style scoped>\n",
       "    .dataframe tbody tr th:only-of-type {\n",
       "        vertical-align: middle;\n",
       "    }\n",
       "\n",
       "    .dataframe tbody tr th {\n",
       "        vertical-align: top;\n",
       "    }\n",
       "\n",
       "    .dataframe thead th {\n",
       "        text-align: right;\n",
       "    }\n",
       "</style>\n",
       "<table border=\"1\" class=\"dataframe\">\n",
       "  <thead>\n",
       "    <tr style=\"text-align: right;\">\n",
       "      <th></th>\n",
       "      <th>ID_Pedido</th>\n",
       "      <th>Data_Pedido</th>\n",
       "      <th>ID_Cliente</th>\n",
       "      <th>Segmento</th>\n",
       "      <th>Pais</th>\n",
       "      <th>Regiao</th>\n",
       "      <th>ID_Produto</th>\n",
       "      <th>Categoria</th>\n",
       "      <th>Nome_Produto</th>\n",
       "      <th>Valor_Venda</th>\n",
       "      <th>Quantidade</th>\n",
       "    </tr>\n",
       "  </thead>\n",
       "  <tbody>\n",
       "    <tr>\n",
       "      <th>3</th>\n",
       "      <td>US-2015-108966</td>\n",
       "      <td>2015-10-11</td>\n",
       "      <td>SO-20335</td>\n",
       "      <td>Consumer</td>\n",
       "      <td>United States</td>\n",
       "      <td>South</td>\n",
       "      <td>FUR-TA-10000577</td>\n",
       "      <td>Furniture</td>\n",
       "      <td>Bretford CR4500 Series Slim Rectangular Table</td>\n",
       "      <td>957.5775</td>\n",
       "      <td>5.0</td>\n",
       "    </tr>\n",
       "    <tr>\n",
       "      <th>5</th>\n",
       "      <td>CA-2014-115812</td>\n",
       "      <td>2014-06-09</td>\n",
       "      <td>BH-11710</td>\n",
       "      <td>Consumer</td>\n",
       "      <td>United States</td>\n",
       "      <td>West</td>\n",
       "      <td>FUR-FU-10001487</td>\n",
       "      <td>Furniture</td>\n",
       "      <td>Eldon Expressions Wood and Plastic Desk Access...</td>\n",
       "      <td>48.8600</td>\n",
       "      <td>7.0</td>\n",
       "    </tr>\n",
       "    <tr>\n",
       "      <th>9</th>\n",
       "      <td>CA-2014-115812</td>\n",
       "      <td>2014-06-09</td>\n",
       "      <td>BH-11710</td>\n",
       "      <td>Consumer</td>\n",
       "      <td>United States</td>\n",
       "      <td>West</td>\n",
       "      <td>OFF-AP-10002892</td>\n",
       "      <td>Office Supplies</td>\n",
       "      <td>Belkin F5C206VTEL 6 Outlet Surge</td>\n",
       "      <td>114.9000</td>\n",
       "      <td>5.0</td>\n",
       "    </tr>\n",
       "    <tr>\n",
       "      <th>10</th>\n",
       "      <td>CA-2014-115812</td>\n",
       "      <td>2014-06-09</td>\n",
       "      <td>BH-11710</td>\n",
       "      <td>Consumer</td>\n",
       "      <td>United States</td>\n",
       "      <td>West</td>\n",
       "      <td>FUR-TA-10001539</td>\n",
       "      <td>Furniture</td>\n",
       "      <td>Chromcraft Rectangular Conference Tables</td>\n",
       "      <td>1706.1840</td>\n",
       "      <td>9.0</td>\n",
       "    </tr>\n",
       "    <tr>\n",
       "      <th>14</th>\n",
       "      <td>US-2015-118983</td>\n",
       "      <td>2015-11-22</td>\n",
       "      <td>HP-14815</td>\n",
       "      <td>Home Office</td>\n",
       "      <td>United States</td>\n",
       "      <td>Central</td>\n",
       "      <td>OFF-AP-10002311</td>\n",
       "      <td>Office Supplies</td>\n",
       "      <td>Holmes Replacement Filter for HEPA Air Cleaner...</td>\n",
       "      <td>68.8100</td>\n",
       "      <td>5.0</td>\n",
       "    </tr>\n",
       "    <tr>\n",
       "      <th>21</th>\n",
       "      <td>CA-2016-137330</td>\n",
       "      <td>2016-12-09</td>\n",
       "      <td>KB-16585</td>\n",
       "      <td>Corporate</td>\n",
       "      <td>United States</td>\n",
       "      <td>Central</td>\n",
       "      <td>OFF-AR-10000246</td>\n",
       "      <td>Office Supplies</td>\n",
       "      <td>Newell 318</td>\n",
       "      <td>19.4600</td>\n",
       "      <td>7.0</td>\n",
       "    </tr>\n",
       "    <tr>\n",
       "      <th>22</th>\n",
       "      <td>CA-2016-137330</td>\n",
       "      <td>2016-12-09</td>\n",
       "      <td>KB-16585</td>\n",
       "      <td>Corporate</td>\n",
       "      <td>United States</td>\n",
       "      <td>Central</td>\n",
       "      <td>OFF-AP-10001492</td>\n",
       "      <td>Office Supplies</td>\n",
       "      <td>Acco Six-Outlet Power Strip, 4' Cord Length</td>\n",
       "      <td>60.3400</td>\n",
       "      <td>7.0</td>\n",
       "    </tr>\n",
       "    <tr>\n",
       "      <th>27</th>\n",
       "      <td>US-2015-150630</td>\n",
       "      <td>2015-09-17</td>\n",
       "      <td>TB-21520</td>\n",
       "      <td>Consumer</td>\n",
       "      <td>United States</td>\n",
       "      <td>East</td>\n",
       "      <td>FUR-BO-10004834</td>\n",
       "      <td>Furniture</td>\n",
       "      <td>Riverside Palais Royal Lawyers Bookcase, Royal...</td>\n",
       "      <td>3083.4300</td>\n",
       "      <td>7.0</td>\n",
       "    </tr>\n",
       "    <tr>\n",
       "      <th>35</th>\n",
       "      <td>CA-2016-117590</td>\n",
       "      <td>2016-12-08</td>\n",
       "      <td>GH-14485</td>\n",
       "      <td>Corporate</td>\n",
       "      <td>United States</td>\n",
       "      <td>Central</td>\n",
       "      <td>TEC-PH-10004977</td>\n",
       "      <td>Technology</td>\n",
       "      <td>GE 30524EE4</td>\n",
       "      <td>1097.5440</td>\n",
       "      <td>7.0</td>\n",
       "    </tr>\n",
       "    <tr>\n",
       "      <th>36</th>\n",
       "      <td>CA-2016-117590</td>\n",
       "      <td>2016-12-08</td>\n",
       "      <td>GH-14485</td>\n",
       "      <td>Corporate</td>\n",
       "      <td>United States</td>\n",
       "      <td>Central</td>\n",
       "      <td>FUR-FU-10003664</td>\n",
       "      <td>Furniture</td>\n",
       "      <td>Electrix Architect's Clamp-On Swing Arm Lamp, ...</td>\n",
       "      <td>190.9200</td>\n",
       "      <td>5.0</td>\n",
       "    </tr>\n",
       "  </tbody>\n",
       "</table>\n",
       "</div>"
      ],
      "text/plain": [
       "         ID_Pedido Data_Pedido  ... Valor_Venda Quantidade\n",
       "3   US-2015-108966  2015-10-11  ...    957.5775        5.0\n",
       "5   CA-2014-115812  2014-06-09  ...     48.8600        7.0\n",
       "9   CA-2014-115812  2014-06-09  ...    114.9000        5.0\n",
       "10  CA-2014-115812  2014-06-09  ...   1706.1840        9.0\n",
       "14  US-2015-118983  2015-11-22  ...     68.8100        5.0\n",
       "21  CA-2016-137330  2016-12-09  ...     19.4600        7.0\n",
       "22  CA-2016-137330  2016-12-09  ...     60.3400        7.0\n",
       "27  US-2015-150630  2015-09-17  ...   3083.4300        7.0\n",
       "35  CA-2016-117590  2016-12-08  ...   1097.5440        7.0\n",
       "36  CA-2016-117590  2016-12-08  ...    190.9200        5.0\n",
       "\n",
       "[10 rows x 11 columns]"
      ]
     },
     "execution_count": 48,
     "metadata": {},
     "output_type": "execute_result"
    }
   ],
   "source": [
    "df[df['Quantidade'].isin([5, 7, 9, 11])][:10]"
   ]
  },
  {
   "cell_type": "code",
   "execution_count": 49,
   "metadata": {},
   "outputs": [
    {
     "data": {
      "text/html": [
       "<div>\n",
       "<style scoped>\n",
       "    .dataframe tbody tr th:only-of-type {\n",
       "        vertical-align: middle;\n",
       "    }\n",
       "\n",
       "    .dataframe tbody tr th {\n",
       "        vertical-align: top;\n",
       "    }\n",
       "\n",
       "    .dataframe thead th {\n",
       "        text-align: right;\n",
       "    }\n",
       "</style>\n",
       "<table border=\"1\" class=\"dataframe\">\n",
       "  <thead>\n",
       "    <tr style=\"text-align: right;\">\n",
       "      <th></th>\n",
       "      <th>ID_Pedido</th>\n",
       "      <th>Data_Pedido</th>\n",
       "      <th>ID_Cliente</th>\n",
       "      <th>Segmento</th>\n",
       "      <th>Pais</th>\n",
       "      <th>Regiao</th>\n",
       "      <th>ID_Produto</th>\n",
       "      <th>Categoria</th>\n",
       "      <th>Nome_Produto</th>\n",
       "      <th>Valor_Venda</th>\n",
       "      <th>Quantidade</th>\n",
       "    </tr>\n",
       "  </thead>\n",
       "  <tbody>\n",
       "    <tr>\n",
       "      <th>182</th>\n",
       "      <td>CA-2014-158274</td>\n",
       "      <td>2014-11-19</td>\n",
       "      <td>RM-19675</td>\n",
       "      <td>Home Office</td>\n",
       "      <td>United States</td>\n",
       "      <td>South</td>\n",
       "      <td>TEC-PH-10003273</td>\n",
       "      <td>Technology</td>\n",
       "      <td>AT&amp;T TR1909W</td>\n",
       "      <td>503.9600</td>\n",
       "      <td>4.0</td>\n",
       "    </tr>\n",
       "    <tr>\n",
       "      <th>183</th>\n",
       "      <td>CA-2014-158274</td>\n",
       "      <td>2014-11-19</td>\n",
       "      <td>RM-19675</td>\n",
       "      <td>Home Office</td>\n",
       "      <td>United States</td>\n",
       "      <td>South</td>\n",
       "      <td>TEC-PH-10004896</td>\n",
       "      <td>Technology</td>\n",
       "      <td>Nokia Lumia 521 (T-Mobile)</td>\n",
       "      <td>149.9500</td>\n",
       "      <td>5.0</td>\n",
       "    </tr>\n",
       "    <tr>\n",
       "      <th>184</th>\n",
       "      <td>CA-2014-158274</td>\n",
       "      <td>2014-11-19</td>\n",
       "      <td>RM-19675</td>\n",
       "      <td>Home Office</td>\n",
       "      <td>United States</td>\n",
       "      <td>South</td>\n",
       "      <td>TEC-AC-10002345</td>\n",
       "      <td>Technology</td>\n",
       "      <td>HP Standard 104 key PS/2 Keyboard</td>\n",
       "      <td>29.0000</td>\n",
       "      <td>2.0</td>\n",
       "    </tr>\n",
       "    <tr>\n",
       "      <th>231</th>\n",
       "      <td>US-2017-100930</td>\n",
       "      <td>2017-04-07</td>\n",
       "      <td>CS-12400</td>\n",
       "      <td>Home Office</td>\n",
       "      <td>United States</td>\n",
       "      <td>South</td>\n",
       "      <td>FUR-TA-10001705</td>\n",
       "      <td>Furniture</td>\n",
       "      <td>Bush Advantage Collection Round Conference Table</td>\n",
       "      <td>233.8600</td>\n",
       "      <td>2.0</td>\n",
       "    </tr>\n",
       "    <tr>\n",
       "      <th>232</th>\n",
       "      <td>US-2017-100930</td>\n",
       "      <td>2017-04-07</td>\n",
       "      <td>CS-12400</td>\n",
       "      <td>Home Office</td>\n",
       "      <td>United States</td>\n",
       "      <td>South</td>\n",
       "      <td>FUR-TA-10003473</td>\n",
       "      <td>Furniture</td>\n",
       "      <td>Bretford Rectangular Conference Table Tops</td>\n",
       "      <td>620.6145</td>\n",
       "      <td>3.0</td>\n",
       "    </tr>\n",
       "  </tbody>\n",
       "</table>\n",
       "</div>"
      ],
      "text/plain": [
       "          ID_Pedido Data_Pedido  ... Valor_Venda Quantidade\n",
       "182  CA-2014-158274  2014-11-19  ...    503.9600        4.0\n",
       "183  CA-2014-158274  2014-11-19  ...    149.9500        5.0\n",
       "184  CA-2014-158274  2014-11-19  ...     29.0000        2.0\n",
       "231  US-2017-100930  2017-04-07  ...    233.8600        2.0\n",
       "232  US-2017-100930  2017-04-07  ...    620.6145        3.0\n",
       "\n",
       "[5 rows x 11 columns]"
      ]
     },
     "execution_count": 49,
     "metadata": {},
     "output_type": "execute_result"
    }
   ],
   "source": [
    "df[(df.Segmento == 'Home Office') & (df.Regiao == 'South')].head()"
   ]
  },
  {
   "cell_type": "code",
   "execution_count": 52,
   "metadata": {},
   "outputs": [
    {
     "data": {
      "text/html": [
       "<div>\n",
       "<style scoped>\n",
       "    .dataframe tbody tr th:only-of-type {\n",
       "        vertical-align: middle;\n",
       "    }\n",
       "\n",
       "    .dataframe tbody tr th {\n",
       "        vertical-align: top;\n",
       "    }\n",
       "\n",
       "    .dataframe thead th {\n",
       "        text-align: right;\n",
       "    }\n",
       "</style>\n",
       "<table border=\"1\" class=\"dataframe\">\n",
       "  <thead>\n",
       "    <tr style=\"text-align: right;\">\n",
       "      <th></th>\n",
       "      <th>ID_Pedido</th>\n",
       "      <th>Data_Pedido</th>\n",
       "      <th>ID_Cliente</th>\n",
       "      <th>Segmento</th>\n",
       "      <th>Pais</th>\n",
       "      <th>Regiao</th>\n",
       "      <th>ID_Produto</th>\n",
       "      <th>Categoria</th>\n",
       "      <th>Nome_Produto</th>\n",
       "      <th>Valor_Venda</th>\n",
       "      <th>Quantidade</th>\n",
       "    </tr>\n",
       "  </thead>\n",
       "  <tbody>\n",
       "    <tr>\n",
       "      <th>9979</th>\n",
       "      <td>US-2016-103674</td>\n",
       "      <td>2016-12-06</td>\n",
       "      <td>AP-10720</td>\n",
       "      <td>Home Office</td>\n",
       "      <td>United States</td>\n",
       "      <td>West</td>\n",
       "      <td>OFF-BI-10002026</td>\n",
       "      <td>Office Supplies</td>\n",
       "      <td>Ibico Recycled Linen-Style Covers</td>\n",
       "      <td>437.472</td>\n",
       "      <td>14.0</td>\n",
       "    </tr>\n",
       "    <tr>\n",
       "      <th>9980</th>\n",
       "      <td>US-2015-151435</td>\n",
       "      <td>2015-09-06</td>\n",
       "      <td>SW-20455</td>\n",
       "      <td>Consumer</td>\n",
       "      <td>United States</td>\n",
       "      <td>South</td>\n",
       "      <td>FUR-TA-10001029</td>\n",
       "      <td>Furniture</td>\n",
       "      <td>KI Adjustable-Height Table</td>\n",
       "      <td>85.980</td>\n",
       "      <td>1.0</td>\n",
       "    </tr>\n",
       "    <tr>\n",
       "      <th>9987</th>\n",
       "      <td>CA-2017-163629</td>\n",
       "      <td>2017-11-17</td>\n",
       "      <td>RA-19885</td>\n",
       "      <td>Corporate</td>\n",
       "      <td>United States</td>\n",
       "      <td>South</td>\n",
       "      <td>TEC-AC-10001539</td>\n",
       "      <td>Technology</td>\n",
       "      <td>Logitech G430 Surround Sound Gaming Headset wi...</td>\n",
       "      <td>79.990</td>\n",
       "      <td>1.0</td>\n",
       "    </tr>\n",
       "    <tr>\n",
       "      <th>9988</th>\n",
       "      <td>CA-2017-163629</td>\n",
       "      <td>2017-11-17</td>\n",
       "      <td>RA-19885</td>\n",
       "      <td>Corporate</td>\n",
       "      <td>United States</td>\n",
       "      <td>South</td>\n",
       "      <td>TEC-PH-10004006</td>\n",
       "      <td>Technology</td>\n",
       "      <td>Panasonic KX - TS880B Telephone</td>\n",
       "      <td>206.100</td>\n",
       "      <td>5.0</td>\n",
       "    </tr>\n",
       "    <tr>\n",
       "      <th>9989</th>\n",
       "      <td>CA-2014-110422</td>\n",
       "      <td>2014-01-21</td>\n",
       "      <td>TB-21400</td>\n",
       "      <td>Consumer</td>\n",
       "      <td>United States</td>\n",
       "      <td>South</td>\n",
       "      <td>FUR-FU-10001889</td>\n",
       "      <td>Furniture</td>\n",
       "      <td>Ultra Door Pull Handle</td>\n",
       "      <td>25.248</td>\n",
       "      <td>3.0</td>\n",
       "    </tr>\n",
       "  </tbody>\n",
       "</table>\n",
       "</div>"
      ],
      "text/plain": [
       "           ID_Pedido Data_Pedido  ... Valor_Venda Quantidade\n",
       "9979  US-2016-103674  2016-12-06  ...     437.472       14.0\n",
       "9980  US-2015-151435  2015-09-06  ...      85.980        1.0\n",
       "9987  CA-2017-163629  2017-11-17  ...      79.990        1.0\n",
       "9988  CA-2017-163629  2017-11-17  ...     206.100        5.0\n",
       "9989  CA-2014-110422  2014-01-21  ...      25.248        3.0\n",
       "\n",
       "[5 rows x 11 columns]"
      ]
     },
     "execution_count": 52,
     "metadata": {},
     "output_type": "execute_result"
    }
   ],
   "source": [
    "df[(df.Segmento == 'Home Office') | (df.Regiao == 'South')].tail()"
   ]
  },
  {
   "cell_type": "code",
   "execution_count": 53,
   "metadata": {},
   "outputs": [
    {
     "data": {
      "text/html": [
       "<div>\n",
       "<style scoped>\n",
       "    .dataframe tbody tr th:only-of-type {\n",
       "        vertical-align: middle;\n",
       "    }\n",
       "\n",
       "    .dataframe tbody tr th {\n",
       "        vertical-align: top;\n",
       "    }\n",
       "\n",
       "    .dataframe thead th {\n",
       "        text-align: right;\n",
       "    }\n",
       "</style>\n",
       "<table border=\"1\" class=\"dataframe\">\n",
       "  <thead>\n",
       "    <tr style=\"text-align: right;\">\n",
       "      <th></th>\n",
       "      <th>ID_Pedido</th>\n",
       "      <th>Data_Pedido</th>\n",
       "      <th>ID_Cliente</th>\n",
       "      <th>Segmento</th>\n",
       "      <th>Pais</th>\n",
       "      <th>Regiao</th>\n",
       "      <th>ID_Produto</th>\n",
       "      <th>Categoria</th>\n",
       "      <th>Nome_Produto</th>\n",
       "      <th>Valor_Venda</th>\n",
       "      <th>Quantidade</th>\n",
       "    </tr>\n",
       "  </thead>\n",
       "  <tbody>\n",
       "    <tr>\n",
       "      <th>7862</th>\n",
       "      <td>CA-2015-142993</td>\n",
       "      <td>2015-10-12</td>\n",
       "      <td>KA-16525</td>\n",
       "      <td>Consumer</td>\n",
       "      <td>United States</td>\n",
       "      <td>West</td>\n",
       "      <td>OFF-ST-10000934</td>\n",
       "      <td>Office Supplies</td>\n",
       "      <td>Contico 72\"H Heavy-Duty Storage System</td>\n",
       "      <td>81.960</td>\n",
       "      <td>2.0</td>\n",
       "    </tr>\n",
       "    <tr>\n",
       "      <th>8183</th>\n",
       "      <td>CA-2017-155642</td>\n",
       "      <td>2017-05-18</td>\n",
       "      <td>BM-11575</td>\n",
       "      <td>Corporate</td>\n",
       "      <td>United States</td>\n",
       "      <td>Central</td>\n",
       "      <td>FUR-FU-10001918</td>\n",
       "      <td>Furniture</td>\n",
       "      <td>C-Line Cubicle Keepers Polyproplyene Holder Wi...</td>\n",
       "      <td>1.892</td>\n",
       "      <td>1.0</td>\n",
       "    </tr>\n",
       "    <tr>\n",
       "      <th>1535</th>\n",
       "      <td>CA-2016-112389</td>\n",
       "      <td>2016-10-29</td>\n",
       "      <td>JM-15655</td>\n",
       "      <td>Corporate</td>\n",
       "      <td>United States</td>\n",
       "      <td>East</td>\n",
       "      <td>OFF-ST-10000419</td>\n",
       "      <td>Office Supplies</td>\n",
       "      <td>Rogers Jumbo File, Granite</td>\n",
       "      <td>40.740</td>\n",
       "      <td>3.0</td>\n",
       "    </tr>\n",
       "    <tr>\n",
       "      <th>4696</th>\n",
       "      <td>US-2015-138121</td>\n",
       "      <td>2015-12-17</td>\n",
       "      <td>JL-15835</td>\n",
       "      <td>Consumer</td>\n",
       "      <td>United States</td>\n",
       "      <td>Central</td>\n",
       "      <td>FUR-CH-10004875</td>\n",
       "      <td>Furniture</td>\n",
       "      <td>Harbour Creations 67200 Series Stacking Chairs</td>\n",
       "      <td>142.360</td>\n",
       "      <td>2.0</td>\n",
       "    </tr>\n",
       "    <tr>\n",
       "      <th>7732</th>\n",
       "      <td>CA-2017-143294</td>\n",
       "      <td>2017-06-02</td>\n",
       "      <td>JD-15790</td>\n",
       "      <td>Consumer</td>\n",
       "      <td>United States</td>\n",
       "      <td>Central</td>\n",
       "      <td>OFF-PA-10000743</td>\n",
       "      <td>Office Supplies</td>\n",
       "      <td>Xerox 1977</td>\n",
       "      <td>10.688</td>\n",
       "      <td>2.0</td>\n",
       "    </tr>\n",
       "  </tbody>\n",
       "</table>\n",
       "</div>"
      ],
      "text/plain": [
       "           ID_Pedido Data_Pedido  ... Valor_Venda Quantidade\n",
       "7862  CA-2015-142993  2015-10-12  ...      81.960        2.0\n",
       "8183  CA-2017-155642  2017-05-18  ...       1.892        1.0\n",
       "1535  CA-2016-112389  2016-10-29  ...      40.740        3.0\n",
       "4696  US-2015-138121  2015-12-17  ...     142.360        2.0\n",
       "7732  CA-2017-143294  2017-06-02  ...      10.688        2.0\n",
       "\n",
       "[5 rows x 11 columns]"
      ]
     },
     "execution_count": 53,
     "metadata": {},
     "output_type": "execute_result"
    }
   ],
   "source": [
    "df[(df.Segmento != 'Home Office') & (df.Regiao != 'South')].sample(5)"
   ]
  },
  {
   "cell_type": "code",
   "execution_count": 55,
   "metadata": {},
   "outputs": [
    {
     "data": {
      "text/html": [
       "<div>\n",
       "<style scoped>\n",
       "    .dataframe tbody tr th:only-of-type {\n",
       "        vertical-align: middle;\n",
       "    }\n",
       "\n",
       "    .dataframe tbody tr th {\n",
       "        vertical-align: top;\n",
       "    }\n",
       "\n",
       "    .dataframe thead th {\n",
       "        text-align: right;\n",
       "    }\n",
       "</style>\n",
       "<table border=\"1\" class=\"dataframe\">\n",
       "  <thead>\n",
       "    <tr style=\"text-align: right;\">\n",
       "      <th></th>\n",
       "      <th></th>\n",
       "      <th>Valor_Venda</th>\n",
       "    </tr>\n",
       "    <tr>\n",
       "      <th>Segmento</th>\n",
       "      <th>Regiao</th>\n",
       "      <th></th>\n",
       "    </tr>\n",
       "  </thead>\n",
       "  <tbody>\n",
       "    <tr>\n",
       "      <th rowspan=\"4\" valign=\"top\">Consumer</th>\n",
       "      <th>Central</th>\n",
       "      <td>207.946728</td>\n",
       "    </tr>\n",
       "    <tr>\n",
       "      <th>East</th>\n",
       "      <td>238.875539</td>\n",
       "    </tr>\n",
       "    <tr>\n",
       "      <th>South</th>\n",
       "      <td>233.390180</td>\n",
       "    </tr>\n",
       "    <tr>\n",
       "      <th>West</th>\n",
       "      <td>217.033955</td>\n",
       "    </tr>\n",
       "    <tr>\n",
       "      <th rowspan=\"4\" valign=\"top\">Corporate</th>\n",
       "      <th>Central</th>\n",
       "      <td>234.763466</td>\n",
       "    </tr>\n",
       "    <tr>\n",
       "      <th>East</th>\n",
       "      <td>228.516929</td>\n",
       "    </tr>\n",
       "    <tr>\n",
       "      <th>South</th>\n",
       "      <td>238.992025</td>\n",
       "    </tr>\n",
       "    <tr>\n",
       "      <th>West</th>\n",
       "      <td>235.265911</td>\n",
       "    </tr>\n",
       "    <tr>\n",
       "      <th rowspan=\"4\" valign=\"top\">Home Office</th>\n",
       "      <th>Central</th>\n",
       "      <td>208.248046</td>\n",
       "    </tr>\n",
       "    <tr>\n",
       "      <th>East</th>\n",
       "      <td>253.911805</td>\n",
       "    </tr>\n",
       "    <tr>\n",
       "      <th>South</th>\n",
       "      <td>272.996329</td>\n",
       "    </tr>\n",
       "    <tr>\n",
       "      <th>West</th>\n",
       "      <td>239.442692</td>\n",
       "    </tr>\n",
       "  </tbody>\n",
       "</table>\n",
       "</div>"
      ],
      "text/plain": [
       "                     Valor_Venda\n",
       "Segmento    Regiao              \n",
       "Consumer    Central   207.946728\n",
       "            East      238.875539\n",
       "            South     233.390180\n",
       "            West      217.033955\n",
       "Corporate   Central   234.763466\n",
       "            East      228.516929\n",
       "            South     238.992025\n",
       "            West      235.265911\n",
       "Home Office Central   208.248046\n",
       "            East      253.911805\n",
       "            South     272.996329\n",
       "            West      239.442692"
      ]
     },
     "execution_count": 55,
     "metadata": {},
     "output_type": "execute_result"
    }
   ],
   "source": [
    "df[['Segmento', 'Regiao', 'Valor_Venda']].groupby(['Segmento', 'Regiao']).mean()"
   ]
  },
  {
   "cell_type": "code",
   "execution_count": 56,
   "metadata": {},
   "outputs": [
    {
     "data": {
      "text/html": [
       "<div>\n",
       "<style scoped>\n",
       "    .dataframe tbody tr th:only-of-type {\n",
       "        vertical-align: middle;\n",
       "    }\n",
       "\n",
       "    .dataframe tbody tr th {\n",
       "        vertical-align: top;\n",
       "    }\n",
       "\n",
       "    .dataframe thead tr th {\n",
       "        text-align: left;\n",
       "    }\n",
       "\n",
       "    .dataframe thead tr:last-of-type th {\n",
       "        text-align: right;\n",
       "    }\n",
       "</style>\n",
       "<table border=\"1\" class=\"dataframe\">\n",
       "  <thead>\n",
       "    <tr>\n",
       "      <th></th>\n",
       "      <th></th>\n",
       "      <th colspan=\"3\" halign=\"left\">Valor_Venda</th>\n",
       "    </tr>\n",
       "    <tr>\n",
       "      <th></th>\n",
       "      <th></th>\n",
       "      <th>mean</th>\n",
       "      <th>std</th>\n",
       "      <th>count</th>\n",
       "    </tr>\n",
       "    <tr>\n",
       "      <th>Segmento</th>\n",
       "      <th>Regiao</th>\n",
       "      <th></th>\n",
       "      <th></th>\n",
       "      <th></th>\n",
       "    </tr>\n",
       "  </thead>\n",
       "  <tbody>\n",
       "    <tr>\n",
       "      <th rowspan=\"4\" valign=\"top\">Consumer</th>\n",
       "      <th>Central</th>\n",
       "      <td>207.946728</td>\n",
       "      <td>587.906523</td>\n",
       "      <td>1212</td>\n",
       "    </tr>\n",
       "    <tr>\n",
       "      <th>East</th>\n",
       "      <td>238.875539</td>\n",
       "      <td>633.371169</td>\n",
       "      <td>1469</td>\n",
       "    </tr>\n",
       "    <tr>\n",
       "      <th>South</th>\n",
       "      <td>233.390180</td>\n",
       "      <td>559.346824</td>\n",
       "      <td>838</td>\n",
       "    </tr>\n",
       "    <tr>\n",
       "      <th>West</th>\n",
       "      <td>217.033955</td>\n",
       "      <td>551.997547</td>\n",
       "      <td>1672</td>\n",
       "    </tr>\n",
       "    <tr>\n",
       "      <th rowspan=\"4\" valign=\"top\">Corporate</th>\n",
       "      <th>Central</th>\n",
       "      <td>234.763466</td>\n",
       "      <td>818.947521</td>\n",
       "      <td>673</td>\n",
       "    </tr>\n",
       "    <tr>\n",
       "      <th>East</th>\n",
       "      <td>228.516929</td>\n",
       "      <td>530.001654</td>\n",
       "      <td>877</td>\n",
       "    </tr>\n",
       "    <tr>\n",
       "      <th>South</th>\n",
       "      <td>238.992025</td>\n",
       "      <td>586.176947</td>\n",
       "      <td>510</td>\n",
       "    </tr>\n",
       "    <tr>\n",
       "      <th>West</th>\n",
       "      <td>235.265911</td>\n",
       "      <td>471.288764</td>\n",
       "      <td>960</td>\n",
       "    </tr>\n",
       "    <tr>\n",
       "      <th rowspan=\"4\" valign=\"top\">Home Office</th>\n",
       "      <th>Central</th>\n",
       "      <td>208.248046</td>\n",
       "      <td>371.009180</td>\n",
       "      <td>438</td>\n",
       "    </tr>\n",
       "    <tr>\n",
       "      <th>East</th>\n",
       "      <td>253.911805</td>\n",
       "      <td>722.777318</td>\n",
       "      <td>502</td>\n",
       "    </tr>\n",
       "    <tr>\n",
       "      <th>South</th>\n",
       "      <td>272.996329</td>\n",
       "      <td>1404.798466</td>\n",
       "      <td>272</td>\n",
       "    </tr>\n",
       "    <tr>\n",
       "      <th>West</th>\n",
       "      <td>239.442692</td>\n",
       "      <td>529.242737</td>\n",
       "      <td>571</td>\n",
       "    </tr>\n",
       "  </tbody>\n",
       "</table>\n",
       "</div>"
      ],
      "text/plain": [
       "                    Valor_Venda                   \n",
       "                           mean          std count\n",
       "Segmento    Regiao                                \n",
       "Consumer    Central  207.946728   587.906523  1212\n",
       "            East     238.875539   633.371169  1469\n",
       "            South    233.390180   559.346824   838\n",
       "            West     217.033955   551.997547  1672\n",
       "Corporate   Central  234.763466   818.947521   673\n",
       "            East     228.516929   530.001654   877\n",
       "            South    238.992025   586.176947   510\n",
       "            West     235.265911   471.288764   960\n",
       "Home Office Central  208.248046   371.009180   438\n",
       "            East     253.911805   722.777318   502\n",
       "            South    272.996329  1404.798466   272\n",
       "            West     239.442692   529.242737   571"
      ]
     },
     "execution_count": 56,
     "metadata": {},
     "output_type": "execute_result"
    }
   ],
   "source": [
    "df[['Segmento', 'Regiao', 'Valor_Venda']].groupby(['Segmento', 'Regiao']).agg(['mean','std', 'count'])"
   ]
  },
  {
   "cell_type": "code",
   "execution_count": null,
   "metadata": {},
   "outputs": [],
   "source": []
  },
  {
   "cell_type": "code",
   "execution_count": null,
   "metadata": {},
   "outputs": [],
   "source": []
  },
  {
   "cell_type": "code",
   "execution_count": null,
   "metadata": {},
   "outputs": [],
   "source": []
  },
  {
   "cell_type": "code",
   "execution_count": null,
   "metadata": {},
   "outputs": [],
   "source": []
  },
  {
   "cell_type": "code",
   "execution_count": null,
   "metadata": {},
   "outputs": [],
   "source": []
  },
  {
   "cell_type": "code",
   "execution_count": null,
   "metadata": {},
   "outputs": [],
   "source": []
  },
  {
   "cell_type": "code",
   "execution_count": null,
   "metadata": {},
   "outputs": [],
   "source": []
  },
  {
   "cell_type": "code",
   "execution_count": null,
   "metadata": {},
   "outputs": [],
   "source": []
  },
  {
   "cell_type": "code",
   "execution_count": null,
   "metadata": {},
   "outputs": [],
   "source": []
  },
  {
   "cell_type": "code",
   "execution_count": null,
   "metadata": {},
   "outputs": [],
   "source": []
  },
  {
   "cell_type": "code",
   "execution_count": null,
   "metadata": {},
   "outputs": [],
   "source": []
  },
  {
   "cell_type": "code",
   "execution_count": null,
   "metadata": {},
   "outputs": [],
   "source": []
  },
  {
   "cell_type": "code",
   "execution_count": null,
   "metadata": {},
   "outputs": [],
   "source": []
  },
  {
   "cell_type": "code",
   "execution_count": null,
   "metadata": {},
   "outputs": [],
   "source": []
  },
  {
   "cell_type": "code",
   "execution_count": null,
   "metadata": {},
   "outputs": [],
   "source": []
  },
  {
   "cell_type": "code",
   "execution_count": null,
   "metadata": {},
   "outputs": [],
   "source": []
  },
  {
   "cell_type": "code",
   "execution_count": null,
   "metadata": {},
   "outputs": [],
   "source": []
  },
  {
   "cell_type": "code",
   "execution_count": null,
   "metadata": {},
   "outputs": [],
   "source": []
  },
  {
   "cell_type": "code",
   "execution_count": null,
   "metadata": {},
   "outputs": [],
   "source": []
  },
  {
   "cell_type": "code",
   "execution_count": null,
   "metadata": {},
   "outputs": [],
   "source": []
  },
  {
   "cell_type": "code",
   "execution_count": null,
   "metadata": {},
   "outputs": [],
   "source": []
  },
  {
   "cell_type": "code",
   "execution_count": null,
   "metadata": {},
   "outputs": [],
   "source": []
  },
  {
   "cell_type": "code",
   "execution_count": null,
   "metadata": {},
   "outputs": [],
   "source": []
  },
  {
   "cell_type": "code",
   "execution_count": null,
   "metadata": {},
   "outputs": [],
   "source": []
  },
  {
   "cell_type": "code",
   "execution_count": null,
   "metadata": {},
   "outputs": [],
   "source": []
  },
  {
   "cell_type": "code",
   "execution_count": null,
   "metadata": {},
   "outputs": [],
   "source": []
  },
  {
   "cell_type": "code",
   "execution_count": null,
   "metadata": {},
   "outputs": [],
   "source": []
  },
  {
   "cell_type": "code",
   "execution_count": null,
   "metadata": {},
   "outputs": [],
   "source": []
  },
  {
   "cell_type": "code",
   "execution_count": null,
   "metadata": {},
   "outputs": [],
   "source": []
  },
  {
   "cell_type": "code",
   "execution_count": null,
   "metadata": {},
   "outputs": [],
   "source": []
  },
  {
   "cell_type": "code",
   "execution_count": null,
   "metadata": {},
   "outputs": [],
   "source": []
  },
  {
   "cell_type": "code",
   "execution_count": null,
   "metadata": {},
   "outputs": [],
   "source": []
  },
  {
   "cell_type": "code",
   "execution_count": null,
   "metadata": {},
   "outputs": [],
   "source": []
  },
  {
   "cell_type": "code",
   "execution_count": null,
   "metadata": {},
   "outputs": [],
   "source": []
  },
  {
   "cell_type": "code",
   "execution_count": null,
   "metadata": {},
   "outputs": [],
   "source": []
  },
  {
   "cell_type": "code",
   "execution_count": null,
   "metadata": {},
   "outputs": [],
   "source": []
  },
  {
   "cell_type": "code",
   "execution_count": null,
   "metadata": {},
   "outputs": [],
   "source": []
  },
  {
   "cell_type": "code",
   "execution_count": null,
   "metadata": {},
   "outputs": [],
   "source": []
  },
  {
   "cell_type": "code",
   "execution_count": null,
   "metadata": {},
   "outputs": [],
   "source": []
  },
  {
   "cell_type": "code",
   "execution_count": null,
   "metadata": {},
   "outputs": [],
   "source": []
  },
  {
   "cell_type": "code",
   "execution_count": null,
   "metadata": {},
   "outputs": [],
   "source": []
  },
  {
   "cell_type": "code",
   "execution_count": null,
   "metadata": {},
   "outputs": [],
   "source": []
  },
  {
   "cell_type": "code",
   "execution_count": null,
   "metadata": {},
   "outputs": [],
   "source": []
  },
  {
   "cell_type": "code",
   "execution_count": null,
   "metadata": {},
   "outputs": [],
   "source": []
  },
  {
   "cell_type": "code",
   "execution_count": null,
   "metadata": {},
   "outputs": [],
   "source": []
  },
  {
   "cell_type": "code",
   "execution_count": null,
   "metadata": {},
   "outputs": [],
   "source": []
  },
  {
   "cell_type": "code",
   "execution_count": null,
   "metadata": {},
   "outputs": [],
   "source": []
  },
  {
   "cell_type": "code",
   "execution_count": null,
   "metadata": {},
   "outputs": [],
   "source": []
  },
  {
   "cell_type": "code",
   "execution_count": null,
   "metadata": {},
   "outputs": [],
   "source": []
  },
  {
   "cell_type": "code",
   "execution_count": null,
   "metadata": {},
   "outputs": [],
   "source": []
  },
  {
   "cell_type": "code",
   "execution_count": null,
   "metadata": {},
   "outputs": [],
   "source": []
  },
  {
   "cell_type": "code",
   "execution_count": null,
   "metadata": {},
   "outputs": [],
   "source": []
  },
  {
   "cell_type": "code",
   "execution_count": null,
   "metadata": {},
   "outputs": [],
   "source": []
  },
  {
   "cell_type": "code",
   "execution_count": null,
   "metadata": {},
   "outputs": [],
   "source": []
  }
 ],
 "metadata": {
  "kernelspec": {
   "display_name": "Python 3",
   "language": "python",
   "name": "python3"
  },
  "language_info": {
   "codemirror_mode": {
    "name": "ipython",
    "version": 3
   },
   "file_extension": ".py",
   "mimetype": "text/x-python",
   "name": "python",
   "nbconvert_exporter": "python",
   "pygments_lexer": "ipython3",
   "version": "3.12.0"
  }
 },
 "nbformat": 4,
 "nbformat_minor": 2
}
